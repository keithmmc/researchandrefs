{
 "cells": [
  {
   "cell_type": "code",
   "execution_count": 1,
   "metadata": {},
   "outputs": [
    {
     "name": "stdout",
     "output_type": "stream",
     "text": [
      "T-Statistic: 6.0\n",
      "Critical t-value: 1.7108820799094275\n",
      "P-Value: 1.703654035845048e-06\n",
      "With T-value :\n",
      "There is a significant difference in weight before and after the camp. \n",
      "    The fitness camp had an effect.\n",
      "With P-value :\n",
      "There is no significant difference in weight before and after the camp. \n",
      "    The fitness camp did not have a significant effect.\n"
     ]
    }
   ],
   "source": [
    "import scipy.stats as stats\n",
    "import numpy as np\n",
    " \n",
    "# Define the population mean weight\n",
    "population_mean = 45\n",
    " \n",
    "# Define the sample mean weight and standard deviation\n",
    "sample_mean = 75\n",
    "sample_std = 25\n",
    " \n",
    "# Define the sample size\n",
    "sample_size = 25\n",
    "\n",
    " \n",
    "# Calculate the t-statistic\n",
    "t_statistic = (sample_mean - population_mean) / (sample_std / np.sqrt(sample_size))\n",
    " \n",
    "# Define the degrees of freedom\n",
    "df = sample_size - 1\n",
    " \n",
    "# Set the significance level (alpha)\n",
    "alpha = 0.05\n",
    " \n",
    "# Calculate the critical t-value\n",
    "critical_t = stats.t.ppf(1 - alpha, df)\n",
    " \n",
    "# Calculate the p-value\n",
    "p_value = 1 - stats.t.cdf(t_statistic, df)\n",
    " \n",
    "# Print the results\n",
    "print(\"T-Statistic:\", t_statistic)\n",
    "print(\"Critical t-value:\", critical_t)\n",
    "print(\"P-Value:\", p_value)\n",
    " \n",
    "# Decision\n",
    "print('With T-value :')\n",
    "if t_statistic > critical_t:\n",
    "    print(\"\"\"There is a significant difference in weight before and after the camp. \n",
    "    The fitness camp had an effect.\"\"\")\n",
    "else:\n",
    "    print(\"\"\"There is no significant difference in weight before and after the camp. \n",
    "    The fitness camp did not have a significant effect.\"\"\")\n",
    " \n",
    "print('With P-value :')\n",
    "if p_value >alpha:\n",
    "    print(\"\"\"There is a significant difference in weight before and after the camp. \n",
    "    The fitness camp had an effect.\"\"\")\n",
    "else:\n",
    "    print(\"\"\"There is no significant difference in weight before and after the camp. \n",
    "    The fitness camp did not have a significant effect.\"\"\")\n"
   ]
  }
 ],
 "metadata": {
  "kernelspec": {
   "display_name": "base",
   "language": "python",
   "name": "python3"
  },
  "language_info": {
   "codemirror_mode": {
    "name": "ipython",
    "version": 3
   },
   "file_extension": ".py",
   "mimetype": "text/x-python",
   "name": "python",
   "nbconvert_exporter": "python",
   "pygments_lexer": "ipython3",
   "version": "3.11.5"
  }
 },
 "nbformat": 4,
 "nbformat_minor": 2
}
